{
 "cells": [
  {
   "cell_type": "code",
   "execution_count": 36,
   "metadata": {},
   "outputs": [],
   "source": [
    "library(zoo)\n",
    "library(dplyr)\n",
    "library(\"scales\")\n",
    "library(class)\n",
    "library(FactoMineR)\n",
    "library(caret)\n",
    "library(randomForest)\n",
    "library(e1071)"
   ]
  },
  {
   "cell_type": "code",
   "execution_count": 18,
   "metadata": {},
   "outputs": [],
   "source": [
    "df <- read.csv(file=\"../../Kaggle_data/Santander_Satisfaction/train.csv\")"
   ]
  },
  {
   "cell_type": "code",
   "execution_count": 19,
   "metadata": {},
   "outputs": [
    {
     "data": {
      "text/html": [
       "371"
      ],
      "text/latex": [
       "371"
      ],
      "text/markdown": [
       "371"
      ],
      "text/plain": [
       "[1] 371"
      ]
     },
     "metadata": {},
     "output_type": "display_data"
    }
   ],
   "source": [
    "ncol(df)"
   ]
  },
  {
   "cell_type": "code",
   "execution_count": 20,
   "metadata": {},
   "outputs": [],
   "source": [
    "X = df[2 : ncol(df) - 1]\n",
    "y = df[ncol(df)]"
   ]
  },
  {
   "cell_type": "code",
   "execution_count": 21,
   "metadata": {},
   "outputs": [],
   "source": [
    "#rescala data from 0 to 1\n",
    "#X <- apply(X, MARGIN = 2, FUN = function(X) (X - min(X))/diff(range(X)))"
   ]
  },
  {
   "cell_type": "code",
   "execution_count": 22,
   "metadata": {},
   "outputs": [],
   "source": [
    "X = PCA(X, graph = FALSE, ncp = 9)"
   ]
  },
  {
   "cell_type": "code",
   "execution_count": 23,
   "metadata": {},
   "outputs": [],
   "source": [
    "data <- X$ind$coord"
   ]
  },
  {
   "cell_type": "code",
   "execution_count": 24,
   "metadata": {},
   "outputs": [],
   "source": [
    "s <- cbind(data, total_cases = y)"
   ]
  },
  {
   "cell_type": "code",
   "execution_count": 28,
   "metadata": {},
   "outputs": [
    {
     "name": "stdout",
     "output_type": "stream",
     "text": [
      "[1] 0.9595633\n"
     ]
    }
   ],
   "source": [
    "#KNN\n",
    "#Randomly shuffle the data\n",
    "s<-s[sample(nrow(s)),]\n",
    "\n",
    "score = 0\n",
    "#Create 10 equally size folds\n",
    "folds <- cut(seq(1,nrow(s)),breaks=10,labels=FALSE)\n",
    "\n",
    "#Perform 10 fold cross validation\n",
    "for(i in 1:10){\n",
    "    #Segement your data by fold using the which() function \n",
    "    testIndexes <- which(folds==i,arr.ind=TRUE)\n",
    "    testData <- s[testIndexes, ]\n",
    "    trainData <- s[-testIndexes, ]\n",
    "    pred <- knn(train=trainData[,c(1:(ncol(trainData) - 1))],  test=testData[,c(1:(ncol(testData) - 1))], cl= trainData[, ncol(trainData)], k=10)\n",
    "    score = score + mean(testData[, ncol(trainData)] == pred)\n",
    "}\n",
    "\n",
    "print(score/10)"
   ]
  },
  {
   "cell_type": "code",
   "execution_count": 33,
   "metadata": {
    "scrolled": true
   },
   "outputs": [
    {
     "name": "stdout",
     "output_type": "stream",
     "text": [
      "[1] 0.9552881\n"
     ]
    }
   ],
   "source": [
    "#Random Forest\n",
    "#Randomly shuffle the data\n",
    "s<-s[sample(nrow(s)),]\n",
    "\n",
    "score = 0\n",
    "#Create 10 equally size folds\n",
    "folds <- cut(seq(1,nrow(s)),breaks=10,labels=FALSE)\n",
    "\n",
    "#Perform 10 fold cross validation\n",
    "for(i in 1:10){\n",
    "    #Segement your data by fold using the which() function \n",
    "    testIndexes <- which(folds==i,arr.ind=TRUE)\n",
    "    testData <- s[testIndexes, ]\n",
    "    trainData <- s[-testIndexes, ]\n",
    "    fit <- randomForest(as.factor(TARGET) ~.,\n",
    "                        data=trainData, \n",
    "                        importance=TRUE, \n",
    "                        ntree=10)\n",
    "    pred <- predict(fit, testData[,c(1:(ncol(testData) - 1))])\n",
    "    score = score + mean(testData[, ncol(trainData)] == pred)\n",
    "}\n",
    "\n",
    "print(score/10)"
   ]
  },
  {
   "cell_type": "code",
   "execution_count": 14,
   "metadata": {},
   "outputs": [
    {
     "data": {
      "text/html": [
       "0.964219942120495"
      ],
      "text/latex": [
       "0.964219942120495"
      ],
      "text/markdown": [
       "0.964219942120495"
      ],
      "text/plain": [
       "[1] 0.9642199"
      ]
     },
     "metadata": {},
     "output_type": "display_data"
    }
   ],
   "source": [
    "\n",
    "fit <- naiveBayes(Survived ~., data=trainData)"
   ]
  },
  {
   "cell_type": "code",
   "execution_count": null,
   "metadata": {},
   "outputs": [],
   "source": []
  }
 ],
 "metadata": {
  "kernelspec": {
   "display_name": "R",
   "language": "R",
   "name": "ir"
  },
  "language_info": {
   "codemirror_mode": "r",
   "file_extension": ".r",
   "mimetype": "text/x-r-source",
   "name": "R",
   "pygments_lexer": "r",
   "version": "3.5.0"
  }
 },
 "nbformat": 4,
 "nbformat_minor": 2
}
